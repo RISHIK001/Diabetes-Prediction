{
 "cells": [
  {
   "cell_type": "markdown",
   "id": "09b7f302",
   "metadata": {
    "papermill": {
     "duration": 0.011461,
     "end_time": "2023-04-14T15:17:16.637147",
     "exception": false,
     "start_time": "2023-04-14T15:17:16.625686",
     "status": "completed"
    },
    "tags": []
   },
   "source": [
    "# Importing the libraries."
   ]
  },
  {
   "cell_type": "code",
   "execution_count": 1,
   "id": "919ef5a2",
   "metadata": {
    "execution": {
     "iopub.execute_input": "2023-04-14T15:17:16.659382Z",
     "iopub.status.busy": "2023-04-14T15:17:16.658814Z",
     "iopub.status.idle": "2023-04-14T15:17:18.299498Z",
     "shell.execute_reply": "2023-04-14T15:17:18.298279Z"
    },
    "papermill": {
     "duration": 1.655443,
     "end_time": "2023-04-14T15:17:18.302687",
     "exception": false,
     "start_time": "2023-04-14T15:17:16.647244",
     "status": "completed"
    },
    "tags": []
   },
   "outputs": [],
   "source": [
    "import pandas as pd\n",
    "import numpy as np \n",
    "import matplotlib.pyplot as plt\n",
    "import seaborn as sns\n",
    "import sklearn"
   ]
  },
  {
   "cell_type": "markdown",
   "id": "ce7bd28d",
   "metadata": {
    "papermill": {
     "duration": 0.01023,
     "end_time": "2023-04-14T15:17:18.322887",
     "exception": false,
     "start_time": "2023-04-14T15:17:18.312657",
     "status": "completed"
    },
    "tags": []
   },
   "source": [
    "# Read the DataFrame."
   ]
  },
  {
   "cell_type": "code",
   "execution_count": 2,
   "id": "47f6395b",
   "metadata": {
    "execution": {
     "iopub.execute_input": "2023-04-14T15:17:18.346056Z",
     "iopub.status.busy": "2023-04-14T15:17:18.345642Z",
     "iopub.status.idle": "2023-04-14T15:17:18.523035Z",
     "shell.execute_reply": "2023-04-14T15:17:18.521249Z"
    },
    "papermill": {
     "duration": 0.193949,
     "end_time": "2023-04-14T15:17:18.526640",
     "exception": false,
     "start_time": "2023-04-14T15:17:18.332691",
     "status": "completed"
    },
    "tags": []
   },
   "outputs": [],
   "source": [
    "df = pd.read_csv(\"/kaggle/input/diabetes-prediction-dataset/diabetes_prediction_dataset.csv\")"
   ]
  },
  {
   "cell_type": "markdown",
   "id": "ec116aca",
   "metadata": {
    "papermill": {
     "duration": 0.009776,
     "end_time": "2023-04-14T15:17:18.546348",
     "exception": false,
     "start_time": "2023-04-14T15:17:18.536572",
     "status": "completed"
    },
    "tags": []
   },
   "source": [
    "# Get the the head of the DataFrame."
   ]
  },
  {
   "cell_type": "code",
   "execution_count": 3,
   "id": "731c603e",
   "metadata": {
    "execution": {
     "iopub.execute_input": "2023-04-14T15:17:18.569416Z",
     "iopub.status.busy": "2023-04-14T15:17:18.569006Z",
     "iopub.status.idle": "2023-04-14T15:17:18.602655Z",
     "shell.execute_reply": "2023-04-14T15:17:18.601314Z"
    },
    "papermill": {
     "duration": 0.049341,
     "end_time": "2023-04-14T15:17:18.605756",
     "exception": false,
     "start_time": "2023-04-14T15:17:18.556415",
     "status": "completed"
    },
    "tags": []
   },
   "outputs": [
    {
     "data": {
      "text/html": [
       "<div>\n",
       "<style scoped>\n",
       "    .dataframe tbody tr th:only-of-type {\n",
       "        vertical-align: middle;\n",
       "    }\n",
       "\n",
       "    .dataframe tbody tr th {\n",
       "        vertical-align: top;\n",
       "    }\n",
       "\n",
       "    .dataframe thead th {\n",
       "        text-align: right;\n",
       "    }\n",
       "</style>\n",
       "<table border=\"1\" class=\"dataframe\">\n",
       "  <thead>\n",
       "    <tr style=\"text-align: right;\">\n",
       "      <th></th>\n",
       "      <th>gender</th>\n",
       "      <th>age</th>\n",
       "      <th>hypertension</th>\n",
       "      <th>heart_disease</th>\n",
       "      <th>smoking_history</th>\n",
       "      <th>bmi</th>\n",
       "      <th>HbA1c_level</th>\n",
       "      <th>blood_glucose_level</th>\n",
       "      <th>diabetes</th>\n",
       "    </tr>\n",
       "  </thead>\n",
       "  <tbody>\n",
       "    <tr>\n",
       "      <th>0</th>\n",
       "      <td>Female</td>\n",
       "      <td>80.0</td>\n",
       "      <td>0</td>\n",
       "      <td>1</td>\n",
       "      <td>never</td>\n",
       "      <td>25.19</td>\n",
       "      <td>6.6</td>\n",
       "      <td>140</td>\n",
       "      <td>0</td>\n",
       "    </tr>\n",
       "    <tr>\n",
       "      <th>1</th>\n",
       "      <td>Female</td>\n",
       "      <td>54.0</td>\n",
       "      <td>0</td>\n",
       "      <td>0</td>\n",
       "      <td>No Info</td>\n",
       "      <td>27.32</td>\n",
       "      <td>6.6</td>\n",
       "      <td>80</td>\n",
       "      <td>0</td>\n",
       "    </tr>\n",
       "    <tr>\n",
       "      <th>2</th>\n",
       "      <td>Male</td>\n",
       "      <td>28.0</td>\n",
       "      <td>0</td>\n",
       "      <td>0</td>\n",
       "      <td>never</td>\n",
       "      <td>27.32</td>\n",
       "      <td>5.7</td>\n",
       "      <td>158</td>\n",
       "      <td>0</td>\n",
       "    </tr>\n",
       "    <tr>\n",
       "      <th>3</th>\n",
       "      <td>Female</td>\n",
       "      <td>36.0</td>\n",
       "      <td>0</td>\n",
       "      <td>0</td>\n",
       "      <td>current</td>\n",
       "      <td>23.45</td>\n",
       "      <td>5.0</td>\n",
       "      <td>155</td>\n",
       "      <td>0</td>\n",
       "    </tr>\n",
       "    <tr>\n",
       "      <th>4</th>\n",
       "      <td>Male</td>\n",
       "      <td>76.0</td>\n",
       "      <td>1</td>\n",
       "      <td>1</td>\n",
       "      <td>current</td>\n",
       "      <td>20.14</td>\n",
       "      <td>4.8</td>\n",
       "      <td>155</td>\n",
       "      <td>0</td>\n",
       "    </tr>\n",
       "  </tbody>\n",
       "</table>\n",
       "</div>"
      ],
      "text/plain": [
       "   gender   age  hypertension  heart_disease smoking_history    bmi  \\\n",
       "0  Female  80.0             0              1           never  25.19   \n",
       "1  Female  54.0             0              0         No Info  27.32   \n",
       "2    Male  28.0             0              0           never  27.32   \n",
       "3  Female  36.0             0              0         current  23.45   \n",
       "4    Male  76.0             1              1         current  20.14   \n",
       "\n",
       "   HbA1c_level  blood_glucose_level  diabetes  \n",
       "0          6.6                  140         0  \n",
       "1          6.6                   80         0  \n",
       "2          5.7                  158         0  \n",
       "3          5.0                  155         0  \n",
       "4          4.8                  155         0  "
      ]
     },
     "execution_count": 3,
     "metadata": {},
     "output_type": "execute_result"
    }
   ],
   "source": [
    "df.head()"
   ]
  },
  {
   "cell_type": "markdown",
   "id": "ceafa3ce",
   "metadata": {
    "papermill": {
     "duration": 0.01036,
     "end_time": "2023-04-14T15:17:18.626977",
     "exception": false,
     "start_time": "2023-04-14T15:17:18.616617",
     "status": "completed"
    },
    "tags": []
   },
   "source": [
    "# Get info about DataFrame."
   ]
  },
  {
   "cell_type": "code",
   "execution_count": 4,
   "id": "b8f8343c",
   "metadata": {
    "execution": {
     "iopub.execute_input": "2023-04-14T15:17:18.649548Z",
     "iopub.status.busy": "2023-04-14T15:17:18.649131Z",
     "iopub.status.idle": "2023-04-14T15:17:18.692530Z",
     "shell.execute_reply": "2023-04-14T15:17:18.690578Z"
    },
    "papermill": {
     "duration": 0.058426,
     "end_time": "2023-04-14T15:17:18.695769",
     "exception": false,
     "start_time": "2023-04-14T15:17:18.637343",
     "status": "completed"
    },
    "tags": []
   },
   "outputs": [
    {
     "name": "stdout",
     "output_type": "stream",
     "text": [
      "<class 'pandas.core.frame.DataFrame'>\n",
      "RangeIndex: 100000 entries, 0 to 99999\n",
      "Data columns (total 9 columns):\n",
      " #   Column               Non-Null Count   Dtype  \n",
      "---  ------               --------------   -----  \n",
      " 0   gender               100000 non-null  object \n",
      " 1   age                  100000 non-null  float64\n",
      " 2   hypertension         100000 non-null  int64  \n",
      " 3   heart_disease        100000 non-null  int64  \n",
      " 4   smoking_history      100000 non-null  object \n",
      " 5   bmi                  100000 non-null  float64\n",
      " 6   HbA1c_level          100000 non-null  float64\n",
      " 7   blood_glucose_level  100000 non-null  int64  \n",
      " 8   diabetes             100000 non-null  int64  \n",
      "dtypes: float64(3), int64(4), object(2)\n",
      "memory usage: 6.9+ MB\n"
     ]
    }
   ],
   "source": [
    "df.info()"
   ]
  },
  {
   "cell_type": "markdown",
   "id": "5614a550",
   "metadata": {
    "papermill": {
     "duration": 0.010019,
     "end_time": "2023-04-14T15:17:18.716455",
     "exception": false,
     "start_time": "2023-04-14T15:17:18.706436",
     "status": "completed"
    },
    "tags": []
   },
   "source": [
    "# Data visualization."
   ]
  },
  {
   "cell_type": "code",
   "execution_count": 5,
   "id": "2d101e3a",
   "metadata": {
    "execution": {
     "iopub.execute_input": "2023-04-14T15:17:18.742434Z",
     "iopub.status.busy": "2023-04-14T15:17:18.741932Z",
     "iopub.status.idle": "2023-04-14T15:17:18.764008Z",
     "shell.execute_reply": "2023-04-14T15:17:18.761754Z"
    },
    "papermill": {
     "duration": 0.039704,
     "end_time": "2023-04-14T15:17:18.767591",
     "exception": false,
     "start_time": "2023-04-14T15:17:18.727887",
     "status": "completed"
    },
    "tags": []
   },
   "outputs": [],
   "source": [
    "df[\"gender\"] = df[\"gender\"].map({\"Female\":\"F\", \"Male\":\"M\", \"Other\":\"Other\"})"
   ]
  },
  {
   "cell_type": "code",
   "execution_count": 6,
   "id": "bd734d31",
   "metadata": {
    "execution": {
     "iopub.execute_input": "2023-04-14T15:17:18.795193Z",
     "iopub.status.busy": "2023-04-14T15:17:18.793467Z",
     "iopub.status.idle": "2023-04-14T15:17:18.817456Z",
     "shell.execute_reply": "2023-04-14T15:17:18.815608Z"
    },
    "papermill": {
     "duration": 0.041321,
     "end_time": "2023-04-14T15:17:18.821222",
     "exception": false,
     "start_time": "2023-04-14T15:17:18.779901",
     "status": "completed"
    },
    "tags": []
   },
   "outputs": [],
   "source": [
    "df[\"gender\"] = df[\"gender\"].map({\"F\":\"F\", \"M\":\"M\", \"Other\":df[\"gender\"].mode()[0]})"
   ]
  },
  {
   "cell_type": "code",
   "execution_count": 7,
   "id": "99bcd316",
   "metadata": {
    "execution": {
     "iopub.execute_input": "2023-04-14T15:17:18.848216Z",
     "iopub.status.busy": "2023-04-14T15:17:18.846777Z",
     "iopub.status.idle": "2023-04-14T15:17:19.202363Z",
     "shell.execute_reply": "2023-04-14T15:17:19.200919Z"
    },
    "papermill": {
     "duration": 0.372832,
     "end_time": "2023-04-14T15:17:19.205322",
     "exception": false,
     "start_time": "2023-04-14T15:17:18.832490",
     "status": "completed"
    },
    "tags": []
   },
   "outputs": [
    {
     "data": {
      "text/plain": [
       "<AxesSubplot:xlabel='diabetes', ylabel='count'>"
      ]
     },
     "execution_count": 7,
     "metadata": {},
     "output_type": "execute_result"
    },
    {
     "data": {
      "image/png": "[encoded data removed]",
      "text/plain": [
       "<Figure size 640x480 with 1 Axes>"
      ]
     },
     "metadata": {},
     "output_type": "display_data"
    }
   ],
   "source": [
    "sns.countplot(x = df[\"diabetes\"], hue=df[\"gender\"])"
   ]
  },
  {
   "cell_type": "code",
   "execution_count": 8,
   "id": "df717aa8",
   "metadata": {
    "execution": {
     "iopub.execute_input": "2023-04-14T15:17:19.231337Z",
     "iopub.status.busy": "2023-04-14T15:17:19.230883Z",
     "iopub.status.idle": "2023-04-14T15:17:19.638423Z",
     "shell.execute_reply": "2023-04-14T15:17:19.636769Z"
    },
    "papermill": {
     "duration": 0.424055,
     "end_time": "2023-04-14T15:17:19.641377",
     "exception": false,
     "start_time": "2023-04-14T15:17:19.217322",
     "status": "completed"
    },
    "tags": []
   },
   "outputs": [
    {
     "data": {
      "text/plain": [
       "<AxesSubplot:xlabel='diabetes', ylabel='count'>"
      ]
     },
     "execution_count": 8,
     "metadata": {},
     "output_type": "execute_result"
    },
    {
     "data": {
      "image/png": "[encoded data removed]",
      "text/plain": [
       "<Figure size 640x480 with 1 Axes>"
      ]
     },
     "metadata": {},
     "output_type": "display_data"
    }
   ],
   "source": [
    "sns.countplot(x = df[\"diabetes\"], hue=df[\"smoking_history\"])"
   ]
  },
  {
   "cell_type": "markdown",
   "id": "bb49770c",
   "metadata": {
    "papermill": {
     "duration": 0.011503,
     "end_time": "2023-04-14T15:17:19.665910",
     "exception": false,
     "start_time": "2023-04-14T15:17:19.654407",
     "status": "completed"
    },
    "tags": []
   },
   "source": [
    "# Convert object values to int."
   ]
  },
  {
   "cell_type": "code",
   "execution_count": 9,
   "id": "e18b1715",
   "metadata": {
    "execution": {
     "iopub.execute_input": "2023-04-14T15:17:19.691474Z",
     "iopub.status.busy": "2023-04-14T15:17:19.691068Z",
     "iopub.status.idle": "2023-04-14T15:17:19.699537Z",
     "shell.execute_reply": "2023-04-14T15:17:19.698509Z"
    },
    "papermill": {
     "duration": 0.025213,
     "end_time": "2023-04-14T15:17:19.703071",
     "exception": false,
     "start_time": "2023-04-14T15:17:19.677858",
     "status": "completed"
    },
    "tags": []
   },
   "outputs": [
    {
     "data": {
      "text/plain": [
       "['gender', 'smoking_history']"
      ]
     },
     "execution_count": 9,
     "metadata": {},
     "output_type": "execute_result"
    }
   ],
   "source": [
    "target = []\n",
    "for i in df.columns:\n",
    "    col = df[i]\n",
    "    if type(col[0]) == str:\n",
    "        target.append(i)\n",
    "target"
   ]
  },
  {
   "cell_type": "code",
   "execution_count": 10,
   "id": "8ff38e31",
   "metadata": {
    "execution": {
     "iopub.execute_input": "2023-04-14T15:17:19.729173Z",
     "iopub.status.busy": "2023-04-14T15:17:19.728439Z",
     "iopub.status.idle": "2023-04-14T15:17:19.907789Z",
     "shell.execute_reply": "2023-04-14T15:17:19.905864Z"
    },
    "papermill": {
     "duration": 0.196513,
     "end_time": "2023-04-14T15:17:19.911696",
     "exception": false,
     "start_time": "2023-04-14T15:17:19.715183",
     "status": "completed"
    },
    "tags": []
   },
   "outputs": [],
   "source": [
    "from sklearn.preprocessing import LabelEncoder\n",
    "\n",
    "for i in target:\n",
    "    encoder = LabelEncoder()\n",
    "    encoder.fit(list(df[i]))\n",
    "    df[i] = encoder.fit_transform(df[i])"
   ]
  },
  {
   "cell_type": "markdown",
   "id": "5321bc1a",
   "metadata": {
    "papermill": {
     "duration": 0.011938,
     "end_time": "2023-04-14T15:17:19.936128",
     "exception": false,
     "start_time": "2023-04-14T15:17:19.924190",
     "status": "completed"
    },
    "tags": []
   },
   "source": [
    "# Features extracting."
   ]
  },
  {
   "cell_type": "code",
   "execution_count": 11,
   "id": "4e3784bf",
   "metadata": {
    "execution": {
     "iopub.execute_input": "2023-04-14T15:17:19.962908Z",
     "iopub.status.busy": "2023-04-14T15:17:19.962423Z",
     "iopub.status.idle": "2023-04-14T15:17:19.972617Z",
     "shell.execute_reply": "2023-04-14T15:17:19.971218Z"
    },
    "papermill": {
     "duration": 0.027706,
     "end_time": "2023-04-14T15:17:19.975862",
     "exception": false,
     "start_time": "2023-04-14T15:17:19.948156",
     "status": "completed"
    },
    "tags": []
   },
   "outputs": [
    {
     "data": {
      "text/plain": [
       "Index(['gender', 'age', 'hypertension', 'heart_disease', 'smoking_history',\n",
       "       'bmi', 'HbA1c_level', 'blood_glucose_level', 'diabetes'],\n",
       "      dtype='object')"
      ]
     },
     "execution_count": 11,
     "metadata": {},
     "output_type": "execute_result"
    }
   ],
   "source": [
    "df.columns"
   ]
  },
  {
   "cell_type": "code",
   "execution_count": 12,
   "id": "f06c738c",
   "metadata": {
    "execution": {
     "iopub.execute_input": "2023-04-14T15:17:20.002837Z",
     "iopub.status.busy": "2023-04-14T15:17:20.002413Z",
     "iopub.status.idle": "2023-04-14T15:17:20.016537Z",
     "shell.execute_reply": "2023-04-14T15:17:20.015420Z"
    },
    "papermill": {
     "duration": 0.03131,
     "end_time": "2023-04-14T15:17:20.019328",
     "exception": false,
     "start_time": "2023-04-14T15:17:19.988018",
     "status": "completed"
    },
    "tags": []
   },
   "outputs": [],
   "source": [
    "X = df[['gender', 'age', 'hypertension', 'heart_disease', 'smoking_history',\n",
    "       'bmi', 'HbA1c_level', 'blood_glucose_level']]\n",
    "y = df[\"diabetes\"]"
   ]
  },
  {
   "cell_type": "markdown",
   "id": "d3b8936a",
   "metadata": {
    "papermill": {
     "duration": 0.012069,
     "end_time": "2023-04-14T15:17:20.044006",
     "exception": false,
     "start_time": "2023-04-14T15:17:20.031937",
     "status": "completed"
    },
    "tags": []
   },
   "source": [
    "# Data splitting."
   ]
  },
  {
   "cell_type": "code",
   "execution_count": 13,
   "id": "6d137620",
   "metadata": {
    "execution": {
     "iopub.execute_input": "2023-04-14T15:17:20.072043Z",
     "iopub.status.busy": "2023-04-14T15:17:20.071564Z",
     "iopub.status.idle": "2023-04-14T15:17:20.172286Z",
     "shell.execute_reply": "2023-04-14T15:17:20.170321Z"
    },
    "papermill": {
     "duration": 0.118116,
     "end_time": "2023-04-14T15:17:20.176165",
     "exception": false,
     "start_time": "2023-04-14T15:17:20.058049",
     "status": "completed"
    },
    "tags": []
   },
   "outputs": [],
   "source": [
    "from sklearn.model_selection import train_test_split\n",
    "\n",
    "x_train, x_test, y_train, y_test = train_test_split(X, y, test_size=1/5, random_state=101)"
   ]
  },
  {
   "cell_type": "markdown",
   "id": "c317405f",
   "metadata": {
    "papermill": {
     "duration": 0.013525,
     "end_time": "2023-04-14T15:17:20.202533",
     "exception": false,
     "start_time": "2023-04-14T15:17:20.189008",
     "status": "completed"
    },
    "tags": []
   },
   "source": [
    "# KNN."
   ]
  },
  {
   "cell_type": "code",
   "execution_count": 14,
   "id": "6da267d4",
   "metadata": {
    "execution": {
     "iopub.execute_input": "2023-04-14T15:17:20.229008Z",
     "iopub.status.busy": "2023-04-14T15:17:20.227863Z",
     "iopub.status.idle": "2023-04-14T15:17:20.611757Z",
     "shell.execute_reply": "2023-04-14T15:17:20.610126Z"
    },
    "papermill": {
     "duration": 0.401034,
     "end_time": "2023-04-14T15:17:20.615742",
     "exception": false,
     "start_time": "2023-04-14T15:17:20.214708",
     "status": "completed"
    },
    "tags": []
   },
   "outputs": [],
   "source": [
    "from sklearn.neighbors import KNeighborsClassifier\n",
    "KNN = KNeighborsClassifier(n_neighbors=3).fit(x_train, y_train)"
   ]
  },
  {
   "cell_type": "markdown",
   "id": "aa21a98d",
   "metadata": {
    "papermill": {
     "duration": 0.011809,
     "end_time": "2023-04-14T15:17:20.640198",
     "exception": false,
     "start_time": "2023-04-14T15:17:20.628389",
     "status": "completed"
    },
    "tags": []
   },
   "source": [
    "## Get prediction of KNN."
   ]
  },
  {
   "cell_type": "code",
   "execution_count": 15,
   "id": "4d046b56",
   "metadata": {
    "execution": {
     "iopub.execute_input": "2023-04-14T15:17:20.666468Z",
     "iopub.status.busy": "2023-04-14T15:17:20.666001Z",
     "iopub.status.idle": "2023-04-14T15:17:21.670573Z",
     "shell.execute_reply": "2023-04-14T15:17:21.669268Z"
    },
    "papermill": {
     "duration": 1.021249,
     "end_time": "2023-04-14T15:17:21.673654",
     "exception": false,
     "start_time": "2023-04-14T15:17:20.652405",
     "status": "completed"
    },
    "tags": []
   },
   "outputs": [],
   "source": [
    "y_predKNN = KNN.predict(x_test)"
   ]
  },
  {
   "cell_type": "markdown",
   "id": "c9dc24e8",
   "metadata": {
    "papermill": {
     "duration": 0.012115,
     "end_time": "2023-04-14T15:17:21.697563",
     "exception": false,
     "start_time": "2023-04-14T15:17:21.685448",
     "status": "completed"
    },
    "tags": []
   },
   "source": [
    "## Get accuracy of KNN."
   ]
  },
  {
   "cell_type": "code",
   "execution_count": 16,
   "id": "06f25b0b",
   "metadata": {
    "execution": {
     "iopub.execute_input": "2023-04-14T15:17:21.723664Z",
     "iopub.status.busy": "2023-04-14T15:17:21.722980Z",
     "iopub.status.idle": "2023-04-14T15:17:21.731561Z",
     "shell.execute_reply": "2023-04-14T15:17:21.730478Z"
    },
    "papermill": {
     "duration": 0.024598,
     "end_time": "2023-04-14T15:17:21.733908",
     "exception": false,
     "start_time": "2023-04-14T15:17:21.709310",
     "status": "completed"
    },
    "tags": []
   },
   "outputs": [
    {
     "data": {
      "text/plain": [
       "0.95235"
      ]
     },
     "execution_count": 16,
     "metadata": {},
     "output_type": "execute_result"
    }
   ],
   "source": [
    "from sklearn.metrics import accuracy_score\n",
    "\n",
    "accKNN = accuracy_score(y_test, y_predKNN)\n",
    "accKNN"
   ]
  },
  {
   "cell_type": "markdown",
   "id": "37a02b6f",
   "metadata": {
    "papermill": {
     "duration": 0.015205,
     "end_time": "2023-04-14T15:17:21.762090",
     "exception": false,
     "start_time": "2023-04-14T15:17:21.746885",
     "status": "completed"
    },
    "tags": []
   },
   "source": [
    "# Decision Tree"
   ]
  },
  {
   "cell_type": "code",
   "execution_count": 17,
   "id": "3c01cbbe",
   "metadata": {
    "execution": {
     "iopub.execute_input": "2023-04-14T15:17:21.790571Z",
     "iopub.status.busy": "2023-04-14T15:17:21.789627Z",
     "iopub.status.idle": "2023-04-14T15:17:22.079070Z",
     "shell.execute_reply": "2023-04-14T15:17:22.077661Z"
    },
    "papermill": {
     "duration": 0.305625,
     "end_time": "2023-04-14T15:17:22.081997",
     "exception": false,
     "start_time": "2023-04-14T15:17:21.776372",
     "status": "completed"
    },
    "tags": []
   },
   "outputs": [],
   "source": [
    "from sklearn.tree import DecisionTreeClassifier\n",
    "Tree = DecisionTreeClassifier(max_depth=10).fit(x_train, y_train)"
   ]
  },
  {
   "cell_type": "markdown",
   "id": "42e44418",
   "metadata": {
    "papermill": {
     "duration": 0.011362,
     "end_time": "2023-04-14T15:17:22.105472",
     "exception": false,
     "start_time": "2023-04-14T15:17:22.094110",
     "status": "completed"
    },
    "tags": []
   },
   "source": [
    "## Get prediction of DT."
   ]
  },
  {
   "cell_type": "code",
   "execution_count": 18,
   "id": "ae99b13e",
   "metadata": {
    "execution": {
     "iopub.execute_input": "2023-04-14T15:17:22.131603Z",
     "iopub.status.busy": "2023-04-14T15:17:22.130902Z",
     "iopub.status.idle": "2023-04-14T15:17:22.140624Z",
     "shell.execute_reply": "2023-04-14T15:17:22.139215Z"
    },
    "papermill": {
     "duration": 0.026438,
     "end_time": "2023-04-14T15:17:22.143693",
     "exception": false,
     "start_time": "2023-04-14T15:17:22.117255",
     "status": "completed"
    },
    "tags": []
   },
   "outputs": [],
   "source": [
    "y_predTree = Tree.predict(x_test)"
   ]
  },
  {
   "cell_type": "markdown",
   "id": "5569c5a8",
   "metadata": {
    "papermill": {
     "duration": 0.011149,
     "end_time": "2023-04-14T15:17:22.166510",
     "exception": false,
     "start_time": "2023-04-14T15:17:22.155361",
     "status": "completed"
    },
    "tags": []
   },
   "source": [
    "## Get accuracy of DT."
   ]
  },
  {
   "cell_type": "code",
   "execution_count": 19,
   "id": "510312e2",
   "metadata": {
    "execution": {
     "iopub.execute_input": "2023-04-14T15:17:22.192983Z",
     "iopub.status.busy": "2023-04-14T15:17:22.192267Z",
     "iopub.status.idle": "2023-04-14T15:17:22.203019Z",
     "shell.execute_reply": "2023-04-14T15:17:22.200987Z"
    },
    "papermill": {
     "duration": 0.028027,
     "end_time": "2023-04-14T15:17:22.206407",
     "exception": false,
     "start_time": "2023-04-14T15:17:22.178380",
     "status": "completed"
    },
    "tags": []
   },
   "outputs": [
    {
     "data": {
      "text/plain": [
       "0.97035"
      ]
     },
     "execution_count": 19,
     "metadata": {},
     "output_type": "execute_result"
    }
   ],
   "source": [
    "accTree = accuracy_score(y_test, y_predTree)\n",
    "accTree"
   ]
  },
  {
   "cell_type": "markdown",
   "id": "66ff823b",
   "metadata": {
    "papermill": {
     "duration": 0.011423,
     "end_time": "2023-04-14T15:17:22.230357",
     "exception": false,
     "start_time": "2023-04-14T15:17:22.218934",
     "status": "completed"
    },
    "tags": []
   },
   "source": [
    "# Random Forest."
   ]
  },
  {
   "cell_type": "code",
   "execution_count": 20,
   "id": "6da4e113",
   "metadata": {
    "execution": {
     "iopub.execute_input": "2023-04-14T15:17:22.257032Z",
     "iopub.status.busy": "2023-04-14T15:17:22.256609Z",
     "iopub.status.idle": "2023-04-14T15:17:28.548781Z",
     "shell.execute_reply": "2023-04-14T15:17:28.547353Z"
    },
    "papermill": {
     "duration": 6.308662,
     "end_time": "2023-04-14T15:17:28.551648",
     "exception": false,
     "start_time": "2023-04-14T15:17:22.242986",
     "status": "completed"
    },
    "tags": []
   },
   "outputs": [],
   "source": [
    "from sklearn.ensemble import RandomForestClassifier\n",
    "RF = RandomForestClassifier(max_depth=10).fit(x_train, y_train)"
   ]
  },
  {
   "cell_type": "markdown",
   "id": "465230c4",
   "metadata": {
    "papermill": {
     "duration": 0.011273,
     "end_time": "2023-04-14T15:17:28.574673",
     "exception": false,
     "start_time": "2023-04-14T15:17:28.563400",
     "status": "completed"
    },
    "tags": []
   },
   "source": [
    "## Get prediction of RF."
   ]
  },
  {
   "cell_type": "code",
   "execution_count": 21,
   "id": "1825cdde",
   "metadata": {
    "execution": {
     "iopub.execute_input": "2023-04-14T15:17:28.600400Z",
     "iopub.status.busy": "2023-04-14T15:17:28.599975Z",
     "iopub.status.idle": "2023-04-14T15:17:28.827320Z",
     "shell.execute_reply": "2023-04-14T15:17:28.825851Z"
    },
    "papermill": {
     "duration": 0.244091,
     "end_time": "2023-04-14T15:17:28.830602",
     "exception": false,
     "start_time": "2023-04-14T15:17:28.586511",
     "status": "completed"
    },
    "tags": []
   },
   "outputs": [],
   "source": [
    "y_predRF = RF.predict(x_test)"
   ]
  },
  {
   "cell_type": "markdown",
   "id": "36454331",
   "metadata": {
    "papermill": {
     "duration": 0.01175,
     "end_time": "2023-04-14T15:17:28.854177",
     "exception": false,
     "start_time": "2023-04-14T15:17:28.842427",
     "status": "completed"
    },
    "tags": []
   },
   "source": [
    "## Get accuracy of RF."
   ]
  },
  {
   "cell_type": "code",
   "execution_count": 22,
   "id": "f7fbefa9",
   "metadata": {
    "execution": {
     "iopub.execute_input": "2023-04-14T15:17:28.879575Z",
     "iopub.status.busy": "2023-04-14T15:17:28.879159Z",
     "iopub.status.idle": "2023-04-14T15:17:28.888882Z",
     "shell.execute_reply": "2023-04-14T15:17:28.887489Z"
    },
    "papermill": {
     "duration": 0.026003,
     "end_time": "2023-04-14T15:17:28.891903",
     "exception": false,
     "start_time": "2023-04-14T15:17:28.865900",
     "status": "completed"
    },
    "tags": []
   },
   "outputs": [
    {
     "data": {
      "text/plain": [
       "0.97125"
      ]
     },
     "execution_count": 22,
     "metadata": {},
     "output_type": "execute_result"
    }
   ],
   "source": [
    "accRF = accuracy_score(y_test, y_predRF)\n",
    "accRF"
   ]
  },
  {
   "cell_type": "markdown",
   "id": "429a2953",
   "metadata": {
    "papermill": {
     "duration": 0.011475,
     "end_time": "2023-04-14T15:17:28.915340",
     "exception": false,
     "start_time": "2023-04-14T15:17:28.903865",
     "status": "completed"
    },
    "tags": []
   },
   "source": [
    "# Logistic Regression."
   ]
  },
  {
   "cell_type": "code",
   "execution_count": 23,
   "id": "9eea2f74",
   "metadata": {
    "execution": {
     "iopub.execute_input": "2023-04-14T15:17:28.940823Z",
     "iopub.status.busy": "2023-04-14T15:17:28.940411Z",
     "iopub.status.idle": "2023-04-14T15:17:30.164922Z",
     "shell.execute_reply": "2023-04-14T15:17:30.163347Z"
    },
    "papermill": {
     "duration": 1.243401,
     "end_time": "2023-04-14T15:17:30.170481",
     "exception": false,
     "start_time": "2023-04-14T15:17:28.927080",
     "status": "completed"
    },
    "tags": []
   },
   "outputs": [
    {
     "name": "stderr",
     "output_type": "stream",
     "text": [
      "/opt/conda/lib/python3.7/site-packages/sklearn/linear_model/_logistic.py:818: ConvergenceWarning: lbfgs failed to converge (status=1):\n",
      "STOP: TOTAL NO. of ITERATIONS REACHED LIMIT.\n",
      "\n",
      "Increase the number of iterations (max_iter) or scale the data as shown in:\n",
      "    https://scikit-learn.org/stable/modules/preprocessing.html\n",
      "Please also refer to the documentation for alternative solver options:\n",
      "    https://scikit-learn.org/stable/modules/linear_model.html#logistic-regression\n",
      "  extra_warning_msg=_LOGISTIC_SOLVER_CONVERGENCE_MSG,\n"
     ]
    }
   ],
   "source": [
    "from sklearn.linear_model import LogisticRegression\n",
    "LR = LogisticRegression().fit(x_train, y_train)"
   ]
  },
  {
   "cell_type": "markdown",
   "id": "3068042a",
   "metadata": {
    "papermill": {
     "duration": 0.03042,
     "end_time": "2023-04-14T15:17:30.232474",
     "exception": false,
     "start_time": "2023-04-14T15:17:30.202054",
     "status": "completed"
    },
    "tags": []
   },
   "source": [
    "## Get prediction of LR."
   ]
  },
  {
   "cell_type": "code",
   "execution_count": 24,
   "id": "f45b7e1b",
   "metadata": {
    "execution": {
     "iopub.execute_input": "2023-04-14T15:17:30.284666Z",
     "iopub.status.busy": "2023-04-14T15:17:30.284267Z",
     "iopub.status.idle": "2023-04-14T15:17:30.297295Z",
     "shell.execute_reply": "2023-04-14T15:17:30.295431Z"
    },
    "papermill": {
     "duration": 0.037654,
     "end_time": "2023-04-14T15:17:30.302395",
     "exception": false,
     "start_time": "2023-04-14T15:17:30.264741",
     "status": "completed"
    },
    "tags": []
   },
   "outputs": [],
   "source": [
    "y_predLR = LR.predict(x_test)"
   ]
  },
  {
   "cell_type": "markdown",
   "id": "512e8cbf",
   "metadata": {
    "papermill": {
     "duration": 0.032747,
     "end_time": "2023-04-14T15:17:30.367553",
     "exception": false,
     "start_time": "2023-04-14T15:17:30.334806",
     "status": "completed"
    },
    "tags": []
   },
   "source": [
    "## Get accuracy of LR."
   ]
  },
  {
   "cell_type": "code",
   "execution_count": 25,
   "id": "2571350c",
   "metadata": {
    "execution": {
     "iopub.execute_input": "2023-04-14T15:17:30.421765Z",
     "iopub.status.busy": "2023-04-14T15:17:30.421356Z",
     "iopub.status.idle": "2023-04-14T15:17:30.431895Z",
     "shell.execute_reply": "2023-04-14T15:17:30.430473Z"
    },
    "papermill": {
     "duration": 0.03427,
     "end_time": "2023-04-14T15:17:30.435096",
     "exception": false,
     "start_time": "2023-04-14T15:17:30.400826",
     "status": "completed"
    },
    "tags": []
   },
   "outputs": [
    {
     "data": {
      "text/plain": [
       "0.95075"
      ]
     },
     "execution_count": 25,
     "metadata": {},
     "output_type": "execute_result"
    }
   ],
   "source": [
    "accLR = accuracy_score(y_test, y_predLR)\n",
    "accLR"
   ]
  },
  {
   "cell_type": "markdown",
   "id": "ce6a7ebb",
   "metadata": {
    "papermill": {
     "duration": 0.012903,
     "end_time": "2023-04-14T15:17:30.460318",
     "exception": false,
     "start_time": "2023-04-14T15:17:30.447415",
     "status": "completed"
    },
    "tags": []
   },
   "source": [
    "# All models accuracy."
   ]
  },
  {
   "cell_type": "code",
   "execution_count": 26,
   "id": "0dec2ff0",
   "metadata": {
    "execution": {
     "iopub.execute_input": "2023-04-14T15:17:30.489347Z",
     "iopub.status.busy": "2023-04-14T15:17:30.488892Z",
     "iopub.status.idle": "2023-04-14T15:17:31.697660Z",
     "shell.execute_reply": "2023-04-14T15:17:31.695701Z"
    },
    "papermill": {
     "duration": 1.229933,
     "end_time": "2023-04-14T15:17:31.704045",
     "exception": false,
     "start_time": "2023-04-14T15:17:30.474112",
     "status": "completed"
    },
    "tags": []
   },
   "outputs": [],
   "source": [
    "allacc = pd.DataFrame(columns=[\"Accuracy\"], index=[\"KNN\", \"Random Forest\",\n",
    "                                                  \"Decision Tree\", \"Logistic Regression\"])\n",
    "models = {'KNN' : KNN, 'Random Forest' : RF, 'Decision Tree' : Tree, \"Logistic Regression\" : LR}\n",
    "\n",
    "for name, model in models.items() :\n",
    "  allacc.loc[name, 'Accuracy'] = accuracy_score(y_test, y_pred = model.predict(x_test))"
   ]
  },
  {
   "cell_type": "code",
   "execution_count": 27,
   "id": "b63d8e01",
   "metadata": {
    "execution": {
     "iopub.execute_input": "2023-04-14T15:17:31.777644Z",
     "iopub.status.busy": "2023-04-14T15:17:31.776620Z",
     "iopub.status.idle": "2023-04-14T15:17:31.798019Z",
     "shell.execute_reply": "2023-04-14T15:17:31.796757Z"
    },
    "papermill": {
     "duration": 0.064246,
     "end_time": "2023-04-14T15:17:31.802264",
     "exception": false,
     "start_time": "2023-04-14T15:17:31.738018",
     "status": "completed"
    },
    "tags": []
   },
   "outputs": [
    {
     "data": {
      "text/html": [
       "<div>\n",
       "<style scoped>\n",
       "    .dataframe tbody tr th:only-of-type {\n",
       "        vertical-align: middle;\n",
       "    }\n",
       "\n",
       "    .dataframe tbody tr th {\n",
       "        vertical-align: top;\n",
       "    }\n",
       "\n",
       "    .dataframe thead th {\n",
       "        text-align: right;\n",
       "    }\n",
       "</style>\n",
       "<table border=\"1\" class=\"dataframe\">\n",
       "  <thead>\n",
       "    <tr style=\"text-align: right;\">\n",
       "      <th></th>\n",
       "      <th>Accuracy</th>\n",
       "    </tr>\n",
       "  </thead>\n",
       "  <tbody>\n",
       "    <tr>\n",
       "      <th>KNN</th>\n",
       "      <td>0.95235</td>\n",
       "    </tr>\n",
       "    <tr>\n",
       "      <th>Random Forest</th>\n",
       "      <td>0.97125</td>\n",
       "    </tr>\n",
       "    <tr>\n",
       "      <th>Decision Tree</th>\n",
       "      <td>0.97035</td>\n",
       "    </tr>\n",
       "    <tr>\n",
       "      <th>Logistic Regression</th>\n",
       "      <td>0.95075</td>\n",
       "    </tr>\n",
       "  </tbody>\n",
       "</table>\n",
       "</div>"
      ],
      "text/plain": [
       "                    Accuracy\n",
       "KNN                  0.95235\n",
       "Random Forest        0.97125\n",
       "Decision Tree        0.97035\n",
       "Logistic Regression  0.95075"
      ]
     },
     "execution_count": 27,
     "metadata": {},
     "output_type": "execute_result"
    }
   ],
   "source": [
    "allacc"
   ]
  },
  {
   "cell_type": "code",
   "execution_count": 28,
   "id": "8de21f61",
   "metadata": {
    "execution": {
     "iopub.execute_input": "2023-04-14T15:17:31.835158Z",
     "iopub.status.busy": "2023-04-14T15:17:31.833970Z",
     "iopub.status.idle": "2023-04-14T15:17:32.181268Z",
     "shell.execute_reply": "2023-04-14T15:17:32.180227Z"
    },
    "papermill": {
     "duration": 0.36355,
     "end_time": "2023-04-14T15:17:32.183868",
     "exception": false,
     "start_time": "2023-04-14T15:17:31.820318",
     "status": "completed"
    },
    "tags": []
   },
   "outputs": [
    {
     "data": {
      "text/plain": [
       "<AxesSubplot:title={'center':'Final models accuracy'}>"
      ]
     },
     "execution_count": 28,
     "metadata": {},
     "output_type": "execute_result"
    },
    {
     "data": {
      "image/png": "[encoded data removed]",
      "text/plain": [
       "<Figure size 1200x700 with 1 Axes>"
      ]
     },
     "metadata": {},
     "output_type": "display_data"
    }
   ],
   "source": [
    "allacc.unstack().plot(kind = 'bar', stacked = True, figsize = (12, 7), title = 'Final models accuracy')"
   ]
  }
 ],
 "metadata": {
  "kernelspec": {
   "display_name": "Python 3",
   "language": "python",
   "name": "python3"
  },
  "language_info": {
   "codemirror_mode": {
    "name": "ipython",
    "version": 3
   },
   "file_extension": ".py",
   "mimetype": "text/x-python",
   "name": "python",
   "nbconvert_exporter": "python",
   "pygments_lexer": "ipython3",
   "version": "3.7.12"
  },
  "papermill": {
   "default_parameters": {},
   "duration": 28.668421,
   "end_time": "2023-04-14T15:17:33.022387",
   "environment_variables": {},
   "exception": null,
   "input_path": "__notebook__.ipynb",
   "output_path": "__notebook__.ipynb",
   "parameters": {},
   "start_time": "2023-04-14T15:17:04.353966",
   "version": "2.4.0"
  }
 },
 "nbformat": 4,
 "nbformat_minor": 5
}
